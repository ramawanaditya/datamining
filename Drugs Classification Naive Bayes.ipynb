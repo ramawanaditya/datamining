{
 "cells": [
  {
   "cell_type": "code",
   "execution_count": 2,
   "id": "3fa0a5c0",
   "metadata": {},
   "outputs": [],
   "source": [
    "import pandas as pd\n",
    "import numpy as np\n",
    "import matplotlib.pyplot as plt"
   ]
  },
  {
   "cell_type": "code",
   "execution_count": 3,
   "id": "96b5da31",
   "metadata": {},
   "outputs": [
    {
     "name": "stdout",
     "output_type": "stream",
     "text": [
      "     Age Sex      BP Cholesterol  Na_to_K   Drug\n",
      "0     23   F    HIGH        HIGH   25.355  DrugY\n",
      "1     47   M     LOW        HIGH   13.093  drugC\n",
      "2     47   M     LOW        HIGH   10.114  drugC\n",
      "3     28   F  NORMAL        HIGH    7.798  drugX\n",
      "4     61   F     LOW        HIGH   18.043  DrugY\n",
      "..   ...  ..     ...         ...      ...    ...\n",
      "195   56   F     LOW        HIGH   11.567  drugC\n",
      "196   16   M     LOW        HIGH   12.006  drugC\n",
      "197   52   M  NORMAL        HIGH    9.894  drugX\n",
      "198   23   M  NORMAL      NORMAL   14.020  drugX\n",
      "199   40   F     LOW      NORMAL   11.349  drugX\n",
      "\n",
      "[200 rows x 6 columns]\n"
     ]
    }
   ],
   "source": [
    "path = r\"C:\\Users\\ramaw\\Downloads\\drugs classification/drug200.csv\"\n",
    "data = pd.read_csv(path)\n",
    "print(data)"
   ]
  },
  {
   "cell_type": "code",
   "execution_count": 4,
   "id": "27d9a6d0",
   "metadata": {},
   "outputs": [],
   "source": [
    "x = data.iloc[:, [0,2,3,4]].values\n",
    "y = data.iloc[:, -1].values"
   ]
  },
  {
   "cell_type": "code",
   "execution_count": 5,
   "id": "d550e7e5",
   "metadata": {},
   "outputs": [
    {
     "name": "stdout",
     "output_type": "stream",
     "text": [
      "[[23 'HIGH' 'HIGH' 25.355]\n",
      " [47 'LOW' 'HIGH' 13.093]\n",
      " [47 'LOW' 'HIGH' 10.114]\n",
      " [28 'NORMAL' 'HIGH' 7.798]\n",
      " [61 'LOW' 'HIGH' 18.043]\n",
      " [22 'NORMAL' 'HIGH' 8.607]\n",
      " [49 'NORMAL' 'HIGH' 16.275]\n",
      " [41 'LOW' 'HIGH' 11.037]\n",
      " [60 'NORMAL' 'HIGH' 15.171]\n",
      " [43 'LOW' 'NORMAL' 19.368]\n",
      " [47 'LOW' 'HIGH' 11.767]\n",
      " [34 'HIGH' 'NORMAL' 19.199]\n",
      " [43 'LOW' 'HIGH' 15.376]\n",
      " [74 'LOW' 'HIGH' 20.942]\n",
      " [50 'NORMAL' 'HIGH' 12.703]\n",
      " [16 'HIGH' 'NORMAL' 15.516]\n",
      " [69 'LOW' 'NORMAL' 11.455]\n",
      " [43 'HIGH' 'HIGH' 13.972]\n",
      " [23 'LOW' 'HIGH' 7.298]\n",
      " [32 'HIGH' 'NORMAL' 25.974]\n",
      " [57 'LOW' 'NORMAL' 19.128]\n",
      " [63 'NORMAL' 'HIGH' 25.917]\n",
      " [47 'LOW' 'NORMAL' 30.568]\n",
      " [48 'LOW' 'HIGH' 15.036]\n",
      " [33 'LOW' 'HIGH' 33.486]\n",
      " [28 'HIGH' 'NORMAL' 18.809]\n",
      " [31 'HIGH' 'HIGH' 30.366]\n",
      " [49 'NORMAL' 'NORMAL' 9.381]\n",
      " [39 'LOW' 'NORMAL' 22.697]\n",
      " [45 'LOW' 'HIGH' 17.951]\n",
      " [18 'NORMAL' 'NORMAL' 8.75]\n",
      " [74 'HIGH' 'HIGH' 9.567]\n",
      " [49 'LOW' 'NORMAL' 11.014]\n",
      " [65 'HIGH' 'NORMAL' 31.876]\n",
      " [53 'NORMAL' 'HIGH' 14.133]\n",
      " [46 'NORMAL' 'NORMAL' 7.285]\n",
      " [32 'HIGH' 'NORMAL' 9.445]\n",
      " [39 'LOW' 'NORMAL' 13.938]\n",
      " [39 'NORMAL' 'NORMAL' 9.709]\n",
      " [15 'NORMAL' 'HIGH' 9.084]\n",
      " [73 'NORMAL' 'HIGH' 19.221]\n",
      " [58 'HIGH' 'NORMAL' 14.239]\n",
      " [50 'NORMAL' 'NORMAL' 15.79]\n",
      " [23 'NORMAL' 'HIGH' 12.26]\n",
      " [50 'NORMAL' 'NORMAL' 12.295]\n",
      " [66 'NORMAL' 'NORMAL' 8.107]\n",
      " [37 'HIGH' 'HIGH' 13.091]\n",
      " [68 'LOW' 'HIGH' 10.291]\n",
      " [23 'NORMAL' 'HIGH' 31.686]\n",
      " [28 'LOW' 'HIGH' 19.796]\n",
      " [58 'HIGH' 'HIGH' 19.416]\n",
      " [67 'NORMAL' 'NORMAL' 10.898]\n",
      " [62 'LOW' 'NORMAL' 27.183]\n",
      " [24 'HIGH' 'NORMAL' 18.457]\n",
      " [68 'HIGH' 'NORMAL' 10.189]\n",
      " [26 'LOW' 'HIGH' 14.16]\n",
      " [65 'HIGH' 'NORMAL' 11.34]\n",
      " [40 'HIGH' 'HIGH' 27.826]\n",
      " [60 'NORMAL' 'NORMAL' 10.091]\n",
      " [34 'HIGH' 'HIGH' 18.703]\n",
      " [38 'LOW' 'NORMAL' 29.875]\n",
      " [24 'HIGH' 'NORMAL' 9.475]\n",
      " [67 'LOW' 'NORMAL' 20.693]\n",
      " [45 'LOW' 'NORMAL' 8.37]\n",
      " [60 'HIGH' 'HIGH' 13.303]\n",
      " [68 'NORMAL' 'NORMAL' 27.05]\n",
      " [29 'HIGH' 'HIGH' 12.856]\n",
      " [17 'NORMAL' 'NORMAL' 10.832]\n",
      " [54 'NORMAL' 'HIGH' 24.658]\n",
      " [18 'HIGH' 'NORMAL' 24.276]\n",
      " [70 'HIGH' 'HIGH' 13.967]\n",
      " [28 'NORMAL' 'HIGH' 19.675]\n",
      " [24 'NORMAL' 'HIGH' 10.605]\n",
      " [41 'NORMAL' 'NORMAL' 22.905]\n",
      " [31 'HIGH' 'NORMAL' 17.069]\n",
      " [26 'LOW' 'NORMAL' 20.909]\n",
      " [36 'HIGH' 'HIGH' 11.198]\n",
      " [26 'HIGH' 'NORMAL' 19.161]\n",
      " [19 'HIGH' 'HIGH' 13.313]\n",
      " [32 'LOW' 'NORMAL' 10.84]\n",
      " [60 'HIGH' 'HIGH' 13.934]\n",
      " [64 'NORMAL' 'HIGH' 7.761]\n",
      " [32 'LOW' 'HIGH' 9.712]\n",
      " [38 'HIGH' 'NORMAL' 11.326]\n",
      " [47 'LOW' 'HIGH' 10.067]\n",
      " [59 'HIGH' 'HIGH' 13.935]\n",
      " [51 'NORMAL' 'HIGH' 13.597]\n",
      " [69 'LOW' 'HIGH' 15.478]\n",
      " [37 'HIGH' 'NORMAL' 23.091]\n",
      " [50 'NORMAL' 'NORMAL' 17.211]\n",
      " [62 'NORMAL' 'HIGH' 16.594]\n",
      " [41 'HIGH' 'NORMAL' 15.156]\n",
      " [29 'HIGH' 'HIGH' 29.45]\n",
      " [42 'LOW' 'NORMAL' 29.271]\n",
      " [56 'LOW' 'HIGH' 15.015]\n",
      " [36 'LOW' 'NORMAL' 11.424]\n",
      " [58 'LOW' 'HIGH' 38.247]\n",
      " [56 'HIGH' 'HIGH' 25.395]\n",
      " [20 'HIGH' 'NORMAL' 35.639]\n",
      " [15 'HIGH' 'NORMAL' 16.725]\n",
      " [31 'HIGH' 'NORMAL' 11.871]\n",
      " [45 'HIGH' 'HIGH' 12.854]\n",
      " [28 'LOW' 'HIGH' 13.127]\n",
      " [56 'NORMAL' 'HIGH' 8.966]\n",
      " [22 'HIGH' 'NORMAL' 28.294]\n",
      " [37 'LOW' 'NORMAL' 8.968]\n",
      " [22 'NORMAL' 'HIGH' 11.953]\n",
      " [42 'LOW' 'HIGH' 20.013]\n",
      " [72 'HIGH' 'NORMAL' 9.677]\n",
      " [23 'NORMAL' 'HIGH' 16.85]\n",
      " [50 'HIGH' 'HIGH' 7.49]\n",
      " [47 'NORMAL' 'NORMAL' 6.683]\n",
      " [35 'LOW' 'NORMAL' 9.17]\n",
      " [65 'LOW' 'NORMAL' 13.769]\n",
      " [20 'NORMAL' 'NORMAL' 9.281]\n",
      " [51 'HIGH' 'HIGH' 18.295]\n",
      " [67 'NORMAL' 'NORMAL' 9.514]\n",
      " [40 'NORMAL' 'HIGH' 10.103]\n",
      " [32 'HIGH' 'NORMAL' 10.292]\n",
      " [61 'HIGH' 'HIGH' 25.475]\n",
      " [28 'NORMAL' 'HIGH' 27.064]\n",
      " [15 'HIGH' 'NORMAL' 17.206]\n",
      " [34 'NORMAL' 'HIGH' 22.456]\n",
      " [36 'NORMAL' 'HIGH' 16.753]\n",
      " [53 'HIGH' 'NORMAL' 12.495]\n",
      " [19 'HIGH' 'NORMAL' 25.969]\n",
      " [66 'HIGH' 'HIGH' 16.347]\n",
      " [35 'NORMAL' 'NORMAL' 7.845]\n",
      " [47 'LOW' 'NORMAL' 33.542]\n",
      " [32 'NORMAL' 'HIGH' 7.477]\n",
      " [70 'NORMAL' 'HIGH' 20.489]\n",
      " [52 'LOW' 'NORMAL' 32.922]\n",
      " [49 'LOW' 'NORMAL' 13.598]\n",
      " [24 'NORMAL' 'HIGH' 25.786]\n",
      " [42 'HIGH' 'HIGH' 21.036]\n",
      " [74 'LOW' 'NORMAL' 11.939]\n",
      " [55 'HIGH' 'HIGH' 10.977]\n",
      " [35 'HIGH' 'HIGH' 12.894]\n",
      " [51 'HIGH' 'NORMAL' 11.343]\n",
      " [69 'NORMAL' 'HIGH' 10.065]\n",
      " [49 'HIGH' 'NORMAL' 6.269]\n",
      " [64 'LOW' 'NORMAL' 25.741]\n",
      " [60 'HIGH' 'NORMAL' 8.621]\n",
      " [74 'HIGH' 'NORMAL' 15.436]\n",
      " [39 'HIGH' 'HIGH' 9.664]\n",
      " [61 'NORMAL' 'HIGH' 9.443]\n",
      " [37 'LOW' 'NORMAL' 12.006]\n",
      " [26 'HIGH' 'NORMAL' 12.307]\n",
      " [61 'LOW' 'NORMAL' 7.34]\n",
      " [22 'LOW' 'HIGH' 8.151]\n",
      " [49 'HIGH' 'NORMAL' 8.7]\n",
      " [68 'HIGH' 'HIGH' 11.009]\n",
      " [55 'NORMAL' 'NORMAL' 7.261]\n",
      " [72 'LOW' 'NORMAL' 14.642]\n",
      " [37 'LOW' 'NORMAL' 16.724]\n",
      " [49 'LOW' 'HIGH' 10.537]\n",
      " [31 'HIGH' 'NORMAL' 11.227]\n",
      " [53 'LOW' 'HIGH' 22.963]\n",
      " [59 'LOW' 'HIGH' 10.444]\n",
      " [34 'LOW' 'NORMAL' 12.923]\n",
      " [30 'NORMAL' 'HIGH' 10.443]\n",
      " [57 'HIGH' 'NORMAL' 9.945]\n",
      " [43 'NORMAL' 'NORMAL' 12.859]\n",
      " [21 'HIGH' 'NORMAL' 28.632]\n",
      " [16 'HIGH' 'NORMAL' 19.007]\n",
      " [38 'LOW' 'HIGH' 18.295]\n",
      " [58 'LOW' 'HIGH' 26.645]\n",
      " [57 'NORMAL' 'HIGH' 14.216]\n",
      " [51 'LOW' 'NORMAL' 23.003]\n",
      " [20 'HIGH' 'HIGH' 11.262]\n",
      " [28 'NORMAL' 'HIGH' 12.879]\n",
      " [45 'LOW' 'NORMAL' 10.017]\n",
      " [39 'NORMAL' 'NORMAL' 17.225]\n",
      " [41 'LOW' 'NORMAL' 18.739]\n",
      " [42 'HIGH' 'NORMAL' 12.766]\n",
      " [73 'HIGH' 'HIGH' 18.348]\n",
      " [48 'HIGH' 'NORMAL' 10.446]\n",
      " [25 'NORMAL' 'HIGH' 19.011]\n",
      " [39 'NORMAL' 'HIGH' 15.969]\n",
      " [67 'NORMAL' 'HIGH' 15.891]\n",
      " [22 'HIGH' 'NORMAL' 22.818]\n",
      " [59 'NORMAL' 'HIGH' 13.884]\n",
      " [20 'LOW' 'NORMAL' 11.686]\n",
      " [36 'HIGH' 'NORMAL' 15.49]\n",
      " [18 'HIGH' 'HIGH' 37.188]\n",
      " [57 'NORMAL' 'NORMAL' 25.893]\n",
      " [70 'HIGH' 'HIGH' 9.849]\n",
      " [47 'HIGH' 'HIGH' 10.403]\n",
      " [65 'HIGH' 'NORMAL' 34.997]\n",
      " [64 'HIGH' 'NORMAL' 20.932]\n",
      " [58 'HIGH' 'HIGH' 18.991]\n",
      " [23 'HIGH' 'HIGH' 8.011]\n",
      " [72 'LOW' 'HIGH' 16.31]\n",
      " [72 'LOW' 'HIGH' 6.769]\n",
      " [46 'HIGH' 'HIGH' 34.686]\n",
      " [56 'LOW' 'HIGH' 11.567]\n",
      " [16 'LOW' 'HIGH' 12.006]\n",
      " [52 'NORMAL' 'HIGH' 9.894]\n",
      " [23 'NORMAL' 'NORMAL' 14.02]\n",
      " [40 'LOW' 'NORMAL' 11.349]]\n"
     ]
    }
   ],
   "source": [
    "print(x)"
   ]
  },
  {
   "cell_type": "code",
   "execution_count": 6,
   "id": "5dae7f23",
   "metadata": {},
   "outputs": [],
   "source": [
    "from sklearn.compose import ColumnTransformer\n",
    "from sklearn.preprocessing import OneHotEncoder\n",
    "ct = ColumnTransformer(transformers=[\n",
    "    ('encoder', OneHotEncoder(), [1, 2]),\n",
    "    ('passthrough', 'passthrough', [0,3])\n",
    "], remainder='drop')\n",
    "x = np.array(ct.fit_transform(x))"
   ]
  },
  {
   "cell_type": "code",
   "execution_count": 7,
   "id": "b11545eb",
   "metadata": {},
   "outputs": [
    {
     "name": "stdout",
     "output_type": "stream",
     "text": [
      "[[1.0 0.0 0.0 ... 0.0 23 25.355]\n",
      " [0.0 1.0 0.0 ... 0.0 47 13.093]\n",
      " [0.0 1.0 0.0 ... 0.0 47 10.114]\n",
      " ...\n",
      " [0.0 0.0 1.0 ... 0.0 52 9.894]\n",
      " [0.0 0.0 1.0 ... 1.0 23 14.02]\n",
      " [0.0 1.0 0.0 ... 1.0 40 11.349]]\n"
     ]
    }
   ],
   "source": [
    "print(x)"
   ]
  },
  {
   "cell_type": "code",
   "execution_count": 8,
   "id": "7b4700b3",
   "metadata": {},
   "outputs": [
    {
     "name": "stdout",
     "output_type": "stream",
     "text": [
      "['DrugY' 'drugC' 'drugC' 'drugX' 'DrugY' 'drugX' 'DrugY' 'drugC' 'DrugY'\n",
      " 'DrugY' 'drugC' 'DrugY' 'DrugY' 'DrugY' 'drugX' 'DrugY' 'drugX' 'drugA'\n",
      " 'drugC' 'DrugY' 'DrugY' 'DrugY' 'DrugY' 'DrugY' 'DrugY' 'DrugY' 'DrugY'\n",
      " 'drugX' 'DrugY' 'DrugY' 'drugX' 'drugB' 'drugX' 'DrugY' 'drugX' 'drugX'\n",
      " 'drugA' 'drugX' 'drugX' 'drugX' 'DrugY' 'drugB' 'DrugY' 'drugX' 'drugX'\n",
      " 'drugX' 'drugA' 'drugC' 'DrugY' 'DrugY' 'DrugY' 'drugX' 'DrugY' 'DrugY'\n",
      " 'drugB' 'drugC' 'drugB' 'DrugY' 'drugX' 'DrugY' 'DrugY' 'drugA' 'DrugY'\n",
      " 'drugX' 'drugB' 'DrugY' 'drugA' 'drugX' 'DrugY' 'DrugY' 'drugB' 'DrugY'\n",
      " 'drugX' 'DrugY' 'DrugY' 'DrugY' 'drugA' 'DrugY' 'drugA' 'drugX' 'drugB'\n",
      " 'drugX' 'drugC' 'drugA' 'drugC' 'drugB' 'drugX' 'DrugY' 'DrugY' 'DrugY'\n",
      " 'DrugY' 'DrugY' 'DrugY' 'DrugY' 'DrugY' 'drugX' 'DrugY' 'DrugY' 'DrugY'\n",
      " 'DrugY' 'drugA' 'drugA' 'drugC' 'drugX' 'DrugY' 'drugX' 'drugX' 'DrugY'\n",
      " 'drugB' 'DrugY' 'drugA' 'drugX' 'drugX' 'drugX' 'drugX' 'DrugY' 'drugX'\n",
      " 'drugX' 'drugA' 'DrugY' 'DrugY' 'DrugY' 'DrugY' 'DrugY' 'drugB' 'DrugY'\n",
      " 'DrugY' 'drugX' 'DrugY' 'drugX' 'DrugY' 'DrugY' 'drugX' 'DrugY' 'DrugY'\n",
      " 'drugX' 'drugB' 'drugA' 'drugB' 'drugX' 'drugA' 'DrugY' 'drugB' 'DrugY'\n",
      " 'drugA' 'drugX' 'drugX' 'drugA' 'drugX' 'drugC' 'drugA' 'drugB' 'drugX'\n",
      " 'drugX' 'DrugY' 'drugC' 'drugA' 'DrugY' 'drugC' 'drugX' 'drugX' 'drugB'\n",
      " 'drugX' 'DrugY' 'DrugY' 'DrugY' 'DrugY' 'drugX' 'DrugY' 'drugA' 'drugX'\n",
      " 'drugX' 'DrugY' 'DrugY' 'drugA' 'DrugY' 'drugA' 'DrugY' 'DrugY' 'DrugY'\n",
      " 'DrugY' 'drugX' 'drugX' 'DrugY' 'DrugY' 'DrugY' 'drugB' 'drugA' 'DrugY'\n",
      " 'DrugY' 'DrugY' 'drugA' 'DrugY' 'drugC' 'DrugY' 'drugC' 'drugC' 'drugX'\n",
      " 'drugX' 'drugX']\n"
     ]
    }
   ],
   "source": [
    "print(y)"
   ]
  },
  {
   "cell_type": "code",
   "execution_count": 9,
   "id": "94d28a88",
   "metadata": {},
   "outputs": [],
   "source": [
    "from sklearn.preprocessing import LabelEncoder\n",
    "le = LabelEncoder()\n",
    "y = le.fit_transform(y)"
   ]
  },
  {
   "cell_type": "code",
   "execution_count": 10,
   "id": "02177dee",
   "metadata": {},
   "outputs": [
    {
     "name": "stdout",
     "output_type": "stream",
     "text": [
      "[0 3 3 4 0 4 0 3 0 0 3 0 0 0 4 0 4 1 3 0 0 0 0 0 0 0 0 4 0 0 4 2 4 0 4 4 1\n",
      " 4 4 4 0 2 0 4 4 4 1 3 0 0 0 4 0 0 2 3 2 0 4 0 0 1 0 4 2 0 1 4 0 0 2 0 4 0\n",
      " 0 0 1 0 1 4 2 4 3 1 3 2 4 0 0 0 0 0 0 0 0 4 0 0 0 0 1 1 3 4 0 4 4 0 2 0 1\n",
      " 4 4 4 4 0 4 4 1 0 0 0 0 0 2 0 0 4 0 4 0 0 4 0 0 4 2 1 2 4 1 0 2 0 1 4 4 1\n",
      " 4 3 1 2 4 4 0 3 1 0 3 4 4 2 4 0 0 0 0 4 0 1 4 4 0 0 1 0 1 0 0 0 0 4 4 0 0\n",
      " 0 2 1 0 0 0 1 0 3 0 3 3 4 4 4]\n"
     ]
    }
   ],
   "source": [
    "print(y)"
   ]
  },
  {
   "cell_type": "code",
   "execution_count": 11,
   "id": "d9457769",
   "metadata": {},
   "outputs": [],
   "source": [
    "# 0 = drugY\n",
    "# 1 = drugA\n",
    "# 2 = drugB\n",
    "# 3 = drugC\n",
    "# 4 = drugX"
   ]
  },
  {
   "cell_type": "code",
   "execution_count": 12,
   "id": "419f128f",
   "metadata": {},
   "outputs": [],
   "source": [
    "from sklearn.model_selection import train_test_split\n",
    "x_train, x_test, y_train, y_test = train_test_split(x, y, test_size = 0.25, random_state = 0)"
   ]
  },
  {
   "cell_type": "code",
   "execution_count": 13,
   "id": "14139de8",
   "metadata": {},
   "outputs": [
    {
     "name": "stdout",
     "output_type": "stream",
     "text": [
      "[[0.0 0.0 1.0 ... 0.0 28 19.675]\n",
      " [1.0 0.0 0.0 ... 1.0 53 12.495]\n",
      " [1.0 0.0 0.0 ... 0.0 18 37.188]\n",
      " ...\n",
      " [0.0 0.0 1.0 ... 0.0 40 10.103]\n",
      " [0.0 1.0 0.0 ... 0.0 68 10.291]\n",
      " [0.0 0.0 1.0 ... 1.0 39 17.225]]\n"
     ]
    }
   ],
   "source": [
    "print(x_train)"
   ]
  },
  {
   "cell_type": "code",
   "execution_count": 14,
   "id": "bc6cb36c",
   "metadata": {},
   "outputs": [
    {
     "name": "stdout",
     "output_type": "stream",
     "text": [
      "[[0.0 1.0 0.0 1.0 0.0 23 7.298]\n",
      " [0.0 0.0 1.0 1.0 0.0 28 12.879]\n",
      " [0.0 1.0 0.0 1.0 0.0 42 20.013]\n",
      " [1.0 0.0 0.0 0.0 1.0 20 35.639]\n",
      " [0.0 0.0 1.0 1.0 0.0 25 19.011]\n",
      " [0.0 1.0 0.0 0.0 1.0 20 11.686]\n",
      " [0.0 0.0 1.0 1.0 0.0 22 8.607]\n",
      " [0.0 1.0 0.0 0.0 1.0 37 12.006]\n",
      " [0.0 1.0 0.0 1.0 0.0 43 15.376]\n",
      " [0.0 0.0 1.0 0.0 1.0 55 7.261]\n",
      " [1.0 0.0 0.0 0.0 1.0 24 9.475]\n",
      " [1.0 0.0 0.0 0.0 1.0 19 25.969]\n",
      " [1.0 0.0 0.0 0.0 1.0 22 22.818]\n",
      " [0.0 1.0 0.0 0.0 1.0 37 16.724]\n",
      " [1.0 0.0 0.0 1.0 0.0 60 13.934]\n",
      " [0.0 1.0 0.0 1.0 0.0 41 11.037]\n",
      " [1.0 0.0 0.0 0.0 1.0 65 31.876]\n",
      " [0.0 0.0 1.0 1.0 0.0 70 20.489]\n",
      " [0.0 1.0 0.0 0.0 1.0 39 13.938]\n",
      " [1.0 0.0 0.0 0.0 1.0 31 17.069]\n",
      " [1.0 0.0 0.0 0.0 1.0 36 15.49]\n",
      " [0.0 0.0 1.0 1.0 0.0 61 9.443]\n",
      " [0.0 0.0 1.0 0.0 1.0 66 8.107]\n",
      " [0.0 1.0 0.0 0.0 1.0 34 12.923]\n",
      " [0.0 1.0 0.0 0.0 1.0 38 29.875]\n",
      " [0.0 0.0 1.0 1.0 0.0 36 16.753]\n",
      " [0.0 0.0 1.0 1.0 0.0 67 15.891]\n",
      " [0.0 0.0 1.0 0.0 1.0 57 25.893]\n",
      " [0.0 0.0 1.0 1.0 0.0 34 22.456]\n",
      " [0.0 0.0 1.0 0.0 1.0 50 12.295]\n",
      " [0.0 1.0 0.0 0.0 1.0 69 11.455]\n",
      " [0.0 1.0 0.0 1.0 0.0 26 14.16]\n",
      " [1.0 0.0 0.0 0.0 1.0 49 8.7]\n",
      " [0.0 0.0 1.0 0.0 1.0 47 6.683]\n",
      " [0.0 1.0 0.0 0.0 1.0 47 30.568]\n",
      " [1.0 0.0 0.0 0.0 1.0 64 20.932]\n",
      " [0.0 0.0 1.0 1.0 0.0 32 7.477]\n",
      " [0.0 1.0 0.0 1.0 0.0 61 18.043]\n",
      " [1.0 0.0 0.0 0.0 1.0 38 11.326]\n",
      " [0.0 0.0 1.0 1.0 0.0 22 11.953]\n",
      " [1.0 0.0 0.0 1.0 0.0 42 21.036]\n",
      " [1.0 0.0 0.0 1.0 0.0 29 12.856]\n",
      " [1.0 0.0 0.0 1.0 0.0 31 30.366]\n",
      " [0.0 1.0 0.0 0.0 1.0 65 13.769]\n",
      " [0.0 1.0 0.0 0.0 1.0 51 23.003]\n",
      " [0.0 1.0 0.0 0.0 1.0 45 8.37]\n",
      " [0.0 0.0 1.0 1.0 0.0 60 15.171]\n",
      " [0.0 1.0 0.0 0.0 1.0 26 20.909]\n",
      " [1.0 0.0 0.0 0.0 1.0 32 10.292]\n",
      " [1.0 0.0 0.0 0.0 1.0 74 15.436]]\n"
     ]
    }
   ],
   "source": [
    "print(x_test)"
   ]
  },
  {
   "cell_type": "code",
   "execution_count": 15,
   "id": "37c827f4",
   "metadata": {},
   "outputs": [
    {
     "name": "stdout",
     "output_type": "stream",
     "text": [
      "[0 2 0 0 3 0 4 4 0 2 0 0 4 0 4 0 2 0 4 4 4 0 1 1 1 0 0 4 4 0 1 1 2 3 2 0 3\n",
      " 0 2 4 4 3 0 0 3 0 0 0 0 4 3 1 0 0 0 1 4 2 4 2 0 0 0 2 0 2 0 2 4 0 0 1 0 0\n",
      " 1 1 4 4 0 4 0 0 3 0 3 4 1 0 4 0 0 3 4 0 0 3 0 4 0 4 4 0 1 4 0 0 0 0 4 0 4\n",
      " 2 2 0 4 1 4 2 1 1 0 0 3 4 0 4 3 4 0 0 0 4 0 1 0 4 4 1 0 2 0 1 0 0 4 4 0 4\n",
      " 3 0]\n"
     ]
    }
   ],
   "source": [
    "print(y_train)"
   ]
  },
  {
   "cell_type": "code",
   "execution_count": 16,
   "id": "4e9bd828",
   "metadata": {},
   "outputs": [
    {
     "name": "stdout",
     "output_type": "stream",
     "text": [
      "[3 4 0 0 0 4 4 4 0 4 1 0 0 0 2 3 0 0 4 0 0 4 4 4 0 0 0 0 0 4 4 3 1 4 0 0 4\n",
      " 0 1 4 0 1 0 4 0 4 0 0 1 0]\n"
     ]
    }
   ],
   "source": [
    "print(y_test)"
   ]
  },
  {
   "cell_type": "code",
   "execution_count": 17,
   "id": "4acc1024",
   "metadata": {},
   "outputs": [],
   "source": [
    "from sklearn.preprocessing import StandardScaler\n",
    "sc = StandardScaler()\n",
    "x_train[:, 6:] = sc.fit_transform(x_train[:, 6:])\n",
    "x_test[:, 6:] = sc.transform(x_test[:, 6:])"
   ]
  },
  {
   "cell_type": "code",
   "execution_count": 18,
   "id": "75f120e3",
   "metadata": {},
   "outputs": [
    {
     "name": "stdout",
     "output_type": "stream",
     "text": [
      "[[0.0 0.0 1.0 ... 0.0 28 0.5063401903884647]\n",
      " [1.0 0.0 0.0 ... 1.0 53 -0.4868109837351762]\n",
      " [1.0 0.0 0.0 ... 0.0 18 2.9287714595287597]\n",
      " ...\n",
      " [0.0 0.0 1.0 ... 0.0 40 -0.8176769459223276]\n",
      " [0.0 1.0 0.0 ... 0.0 68 -0.7916724304995916]\n",
      " [0.0 0.0 1.0 ... 1.0 39 0.16745155854961802]]\n"
     ]
    }
   ],
   "source": [
    "print(x_train)"
   ]
  },
  {
   "cell_type": "code",
   "execution_count": 19,
   "id": "788bdc12",
   "metadata": {},
   "outputs": [
    {
     "name": "stdout",
     "output_type": "stream",
     "text": [
      "[[0.0 1.0 0.0 1.0 0.0 23 -1.2056698489051705]\n",
      " [0.0 0.0 1.0 1.0 0.0 28 -0.4336953777653324]\n",
      " [0.0 1.0 0.0 1.0 0.0 42 0.553092989393171]\n",
      " [1.0 0.0 0.0 0.0 1.0 20 2.714510851072281]\n",
      " [0.0 0.0 1.0 1.0 0.0 25 0.41449445506560967]\n",
      " [0.0 1.0 0.0 0.0 1.0 20 -0.5987133931872687]\n",
      " [0.0 0.0 1.0 1.0 0.0 22 -1.0246064941798438]\n",
      " [0.0 1.0 0.0 0.0 1.0 37 -0.5544503882123989]\n",
      " [0.0 1.0 0.0 1.0 0.0 43 -0.08830561707080167]\n",
      " [0.0 0.0 1.0 0.0 1.0 55 -1.21078775885539]\n",
      " [1.0 0.0 0.0 0.0 1.0 24 -0.9045430931855096]\n",
      " [1.0 0.0 0.0 0.0 1.0 19 1.3769381694879346]\n",
      " [1.0 0.0 0.0 0.0 1.0 22 0.9410858923760138]\n",
      " [0.0 1.0 0.0 0.0 1.0 37 0.09815229138583736]\n",
      " [1.0 0.0 0.0 1.0 0.0 60 -0.28776578323880864]\n",
      " [0.0 1.0 0.0 1.0 0.0 41 -0.6884843001519263]\n",
      " [1.0 0.0 0.0 0.0 1.0 65 2.1940055769459215]\n",
      " [0.0 0.0 1.0 1.0 0.0 70 0.6189342092932897]\n",
      " [0.0 1.0 0.0 0.0 1.0 39 -0.28721249567662255]\n",
      " [1.0 0.0 0.0 0.0 1.0 31 0.14587334362436868]\n",
      " [1.0 0.0 0.0 0.0 1.0 36 -0.0725369215485042]\n",
      " [0.0 0.0 1.0 1.0 0.0 61 -0.9089693936829966]\n",
      " [0.0 0.0 1.0 0.0 1.0 66 -1.0937674394530779]\n",
      " [0.0 1.0 0.0 0.0 1.0 34 -0.4276092145812877]\n",
      " [0.0 1.0 0.0 0.0 1.0 38 1.9172234739624388]\n",
      " [0.0 0.0 1.0 1.0 0.0 36 0.10216362621168493]\n",
      " [0.0 0.0 1.0 1.0 0.0 67 -0.01706984343937055]\n",
      " [0.0 0.0 1.0 0.0 1.0 57 1.3664257058064029]\n",
      " [0.0 0.0 1.0 1.0 0.0 34 0.8910133679981921]\n",
      " [0.0 0.0 1.0 0.0 1.0 50 -0.5144753618444696]\n",
      " [0.0 1.0 0.0 0.0 1.0 69 -0.6306657499035028]\n",
      " [0.0 1.0 0.0 1.0 0.0 26 -0.2565050359753067]\n",
      " [1.0 0.0 0.0 0.0 1.0 49 -1.0117425583590225]\n",
      " [0.0 0.0 1.0 0.0 1.0 47 -1.2907378115912485]\n",
      " [0.0 1.0 0.0 0.0 1.0 47 2.013080544111141]\n",
      " [1.0 0.0 0.0 0.0 1.0 64 0.6802108068053747]\n",
      " [0.0 0.0 1.0 1.0 0.0 32 -1.1809102304973527]\n",
      " [0.0 1.0 0.0 1.0 0.0 61 0.28059886501662856]\n",
      " [1.0 0.0 0.0 0.0 1.0 38 -0.6485092737839971]\n",
      " [0.0 0.0 1.0 1.0 0.0 22 -0.5617814484113618]\n",
      " [1.0 0.0 0.0 1.0 0.0 42 0.6945962834222078]\n",
      " [1.0 0.0 0.0 1.0 0.0 29 -0.4368767812479011]\n",
      " [1.0 0.0 0.0 1.0 0.0 31 1.9851395222207544]\n",
      " [0.0 1.0 0.0 0.0 1.0 65 -0.31058889517897575]\n",
      " [0.0 1.0 0.0 0.0 1.0 51 0.9666754421271102]\n",
      " [0.0 1.0 0.0 0.0 1.0 45 -1.0573887822393568]\n",
      " [0.0 0.0 1.0 1.0 0.0 60 -0.11666160463282764]\n",
      " [0.0 1.0 0.0 0.0 1.0 26 0.6770294033228059]\n",
      " [1.0 0.0 0.0 0.0 1.0 32 -0.7915341086090452]\n",
      " [1.0 0.0 0.0 0.0 1.0 74 -0.08000630363801352]]\n"
     ]
    }
   ],
   "source": [
    "print(x_test)"
   ]
  },
  {
   "cell_type": "code",
   "execution_count": 20,
   "id": "054f1420",
   "metadata": {},
   "outputs": [],
   "source": [
    "x_train[:, 5:6] = sc.fit_transform(x_train[:, 5:6])\n",
    "x_test[:, 5:6] = sc.transform(x_test[:, 5:6])"
   ]
  },
  {
   "cell_type": "code",
   "execution_count": 21,
   "id": "e709b7e2",
   "metadata": {},
   "outputs": [
    {
     "name": "stdout",
     "output_type": "stream",
     "text": [
      "[[0.0 1.0 0.0 1.0 0.0 -1.3213782877828895 -1.2056698489051705]\n",
      " [0.0 0.0 1.0 1.0 0.0 -1.0211560170051956 -0.4336953777653324]\n",
      " [0.0 1.0 0.0 1.0 0.0 -0.1805336588276532 0.553092989393171]\n",
      " [1.0 0.0 0.0 0.0 1.0 -1.5015116502495056 2.714510851072281]\n",
      " [0.0 0.0 1.0 1.0 0.0 -1.2012893794718118 0.41449445506560967]\n",
      " [0.0 1.0 0.0 0.0 1.0 -1.5015116502495056 -0.5987133931872687]\n",
      " [0.0 0.0 1.0 1.0 0.0 -1.3814227419384282 -1.0246064941798438]\n",
      " [0.0 1.0 0.0 0.0 1.0 -0.48075592960534697 -0.5544503882123989]\n",
      " [0.0 1.0 0.0 1.0 0.0 -0.12048920467211448 -0.08830561707080167]\n",
      " [0.0 0.0 1.0 0.0 1.0 0.6000442451943505 -1.21078775885539]\n",
      " [1.0 0.0 0.0 0.0 1.0 -1.2613338336273507 -0.9045430931855096]\n",
      " [1.0 0.0 0.0 0.0 1.0 -1.5615561044050443 1.3769381694879346]\n",
      " [1.0 0.0 0.0 0.0 1.0 -1.3814227419384282 0.9410858923760138]\n",
      " [0.0 1.0 0.0 0.0 1.0 -0.48075592960534697 0.09815229138583736]\n",
      " [1.0 0.0 0.0 1.0 0.0 0.9002665159720442 -0.28776578323880864]\n",
      " [0.0 1.0 0.0 1.0 0.0 -0.24057811298319196 -0.6884843001519263]\n",
      " [1.0 0.0 0.0 0.0 1.0 1.200488786749738 2.1940055769459215]\n",
      " [0.0 0.0 1.0 1.0 0.0 1.5007110575274316 0.6189342092932897]\n",
      " [0.0 1.0 0.0 0.0 1.0 -0.3606670212942695 -0.28721249567662255]\n",
      " [1.0 0.0 0.0 0.0 1.0 -0.8410226545385794 0.14587334362436868]\n",
      " [1.0 0.0 0.0 0.0 1.0 -0.5408003837608857 -0.0725369215485042]\n",
      " [0.0 0.0 1.0 1.0 0.0 0.9603109701275829 -0.9089693936829966]\n",
      " [0.0 0.0 1.0 0.0 1.0 1.2605332409052767 -1.0937674394530779]\n",
      " [0.0 1.0 0.0 0.0 1.0 -0.6608892920719632 -0.4276092145812877]\n",
      " [0.0 1.0 0.0 0.0 1.0 -0.4207114754498082 1.9172234739624388]\n",
      " [0.0 0.0 1.0 1.0 0.0 -0.5408003837608857 0.10216362621168493]\n",
      " [0.0 0.0 1.0 1.0 0.0 1.3205776950608155 -0.01706984343937055]\n",
      " [0.0 0.0 1.0 0.0 1.0 0.720133153505428 1.3664257058064029]\n",
      " [0.0 0.0 1.0 1.0 0.0 -0.6608892920719632 0.8910133679981921]\n",
      " [0.0 0.0 1.0 0.0 1.0 0.29982197441665676 -0.5144753618444696]\n",
      " [0.0 1.0 0.0 0.0 1.0 1.440666603371893 -0.6306657499035028]\n",
      " [0.0 1.0 0.0 1.0 0.0 -1.141244925316273 -0.2565050359753067]\n",
      " [1.0 0.0 0.0 0.0 1.0 0.23977752026111798 -1.0117425583590225]\n",
      " [0.0 0.0 1.0 0.0 1.0 0.1196886119500405 -1.2907378115912485]\n",
      " [0.0 1.0 0.0 0.0 1.0 0.1196886119500405 2.013080544111141]\n",
      " [1.0 0.0 0.0 0.0 1.0 1.140444332594199 0.6802108068053747]\n",
      " [0.0 0.0 1.0 1.0 0.0 -0.7809782003830407 -1.1809102304973527]\n",
      " [0.0 1.0 0.0 1.0 0.0 0.9603109701275829 0.28059886501662856]\n",
      " [1.0 0.0 0.0 0.0 1.0 -0.4207114754498082 -0.6485092737839971]\n",
      " [0.0 0.0 1.0 1.0 0.0 -1.3814227419384282 -0.5617814484113618]\n",
      " [1.0 0.0 0.0 1.0 0.0 -0.1805336588276532 0.6945962834222078]\n",
      " [1.0 0.0 0.0 1.0 0.0 -0.9611115628496569 -0.4368767812479011]\n",
      " [1.0 0.0 0.0 1.0 0.0 -0.8410226545385794 1.9851395222207544]\n",
      " [0.0 1.0 0.0 0.0 1.0 1.200488786749738 -0.31058889517897575]\n",
      " [0.0 1.0 0.0 0.0 1.0 0.3598664285721955 0.9666754421271102]\n",
      " [0.0 1.0 0.0 0.0 1.0 -0.00040029636103698754 -1.0573887822393568]\n",
      " [0.0 0.0 1.0 1.0 0.0 0.9002665159720442 -0.11666160463282764]\n",
      " [0.0 1.0 0.0 0.0 1.0 -1.141244925316273 0.6770294033228059]\n",
      " [1.0 0.0 0.0 0.0 1.0 -0.7809782003830407 -0.7915341086090452]\n",
      " [1.0 0.0 0.0 0.0 1.0 1.7408888741495867 -0.08000630363801352]]\n"
     ]
    }
   ],
   "source": [
    "print(x_test)"
   ]
  },
  {
   "cell_type": "code",
   "execution_count": 22,
   "id": "94842a31",
   "metadata": {},
   "outputs": [
    {
     "name": "stdout",
     "output_type": "stream",
     "text": [
      "[[0.0 0.0 1.0 ... 0.0 -1.0211560170051956 0.5063401903884647]\n",
      " [1.0 0.0 0.0 ... 1.0 0.47995533688327296 -0.4868109837351762]\n",
      " [1.0 0.0 0.0 ... 0.0 -1.621600558560583 2.9287714595287597]\n",
      " ...\n",
      " [0.0 0.0 1.0 ... 0.0 -0.3006225671387307 -0.8176769459223276]\n",
      " [0.0 1.0 0.0 ... 0.0 1.3806221492163542 -0.7916724304995916]\n",
      " [0.0 0.0 1.0 ... 1.0 -0.3606670212942695 0.16745155854961802]]\n"
     ]
    }
   ],
   "source": [
    "print(x_train)"
   ]
  },
  {
   "cell_type": "code",
   "execution_count": 23,
   "id": "10b3c0b2",
   "metadata": {},
   "outputs": [
    {
     "data": {
      "text/html": [
       "<style>#sk-container-id-1 {color: black;background-color: white;}#sk-container-id-1 pre{padding: 0;}#sk-container-id-1 div.sk-toggleable {background-color: white;}#sk-container-id-1 label.sk-toggleable__label {cursor: pointer;display: block;width: 100%;margin-bottom: 0;padding: 0.3em;box-sizing: border-box;text-align: center;}#sk-container-id-1 label.sk-toggleable__label-arrow:before {content: \"▸\";float: left;margin-right: 0.25em;color: #696969;}#sk-container-id-1 label.sk-toggleable__label-arrow:hover:before {color: black;}#sk-container-id-1 div.sk-estimator:hover label.sk-toggleable__label-arrow:before {color: black;}#sk-container-id-1 div.sk-toggleable__content {max-height: 0;max-width: 0;overflow: hidden;text-align: left;background-color: #f0f8ff;}#sk-container-id-1 div.sk-toggleable__content pre {margin: 0.2em;color: black;border-radius: 0.25em;background-color: #f0f8ff;}#sk-container-id-1 input.sk-toggleable__control:checked~div.sk-toggleable__content {max-height: 200px;max-width: 100%;overflow: auto;}#sk-container-id-1 input.sk-toggleable__control:checked~label.sk-toggleable__label-arrow:before {content: \"▾\";}#sk-container-id-1 div.sk-estimator input.sk-toggleable__control:checked~label.sk-toggleable__label {background-color: #d4ebff;}#sk-container-id-1 div.sk-label input.sk-toggleable__control:checked~label.sk-toggleable__label {background-color: #d4ebff;}#sk-container-id-1 input.sk-hidden--visually {border: 0;clip: rect(1px 1px 1px 1px);clip: rect(1px, 1px, 1px, 1px);height: 1px;margin: -1px;overflow: hidden;padding: 0;position: absolute;width: 1px;}#sk-container-id-1 div.sk-estimator {font-family: monospace;background-color: #f0f8ff;border: 1px dotted black;border-radius: 0.25em;box-sizing: border-box;margin-bottom: 0.5em;}#sk-container-id-1 div.sk-estimator:hover {background-color: #d4ebff;}#sk-container-id-1 div.sk-parallel-item::after {content: \"\";width: 100%;border-bottom: 1px solid gray;flex-grow: 1;}#sk-container-id-1 div.sk-label:hover label.sk-toggleable__label {background-color: #d4ebff;}#sk-container-id-1 div.sk-serial::before {content: \"\";position: absolute;border-left: 1px solid gray;box-sizing: border-box;top: 0;bottom: 0;left: 50%;z-index: 0;}#sk-container-id-1 div.sk-serial {display: flex;flex-direction: column;align-items: center;background-color: white;padding-right: 0.2em;padding-left: 0.2em;position: relative;}#sk-container-id-1 div.sk-item {position: relative;z-index: 1;}#sk-container-id-1 div.sk-parallel {display: flex;align-items: stretch;justify-content: center;background-color: white;position: relative;}#sk-container-id-1 div.sk-item::before, #sk-container-id-1 div.sk-parallel-item::before {content: \"\";position: absolute;border-left: 1px solid gray;box-sizing: border-box;top: 0;bottom: 0;left: 50%;z-index: -1;}#sk-container-id-1 div.sk-parallel-item {display: flex;flex-direction: column;z-index: 1;position: relative;background-color: white;}#sk-container-id-1 div.sk-parallel-item:first-child::after {align-self: flex-end;width: 50%;}#sk-container-id-1 div.sk-parallel-item:last-child::after {align-self: flex-start;width: 50%;}#sk-container-id-1 div.sk-parallel-item:only-child::after {width: 0;}#sk-container-id-1 div.sk-dashed-wrapped {border: 1px dashed gray;margin: 0 0.4em 0.5em 0.4em;box-sizing: border-box;padding-bottom: 0.4em;background-color: white;}#sk-container-id-1 div.sk-label label {font-family: monospace;font-weight: bold;display: inline-block;line-height: 1.2em;}#sk-container-id-1 div.sk-label-container {text-align: center;}#sk-container-id-1 div.sk-container {/* jupyter's `normalize.less` sets `[hidden] { display: none; }` but bootstrap.min.css set `[hidden] { display: none !important; }` so we also need the `!important` here to be able to override the default hidden behavior on the sphinx rendered scikit-learn.org. See: https://github.com/scikit-learn/scikit-learn/issues/21755 */display: inline-block !important;position: relative;}#sk-container-id-1 div.sk-text-repr-fallback {display: none;}</style><div id=\"sk-container-id-1\" class=\"sk-top-container\"><div class=\"sk-text-repr-fallback\"><pre>GaussianNB()</pre><b>In a Jupyter environment, please rerun this cell to show the HTML representation or trust the notebook. <br />On GitHub, the HTML representation is unable to render, please try loading this page with nbviewer.org.</b></div><div class=\"sk-container\" hidden><div class=\"sk-item\"><div class=\"sk-estimator sk-toggleable\"><input class=\"sk-toggleable__control sk-hidden--visually\" id=\"sk-estimator-id-1\" type=\"checkbox\" checked><label for=\"sk-estimator-id-1\" class=\"sk-toggleable__label sk-toggleable__label-arrow\">GaussianNB</label><div class=\"sk-toggleable__content\"><pre>GaussianNB()</pre></div></div></div></div></div>"
      ],
      "text/plain": [
       "GaussianNB()"
      ]
     },
     "execution_count": 23,
     "metadata": {},
     "output_type": "execute_result"
    }
   ],
   "source": [
    "from sklearn.naive_bayes import GaussianNB\n",
    "classifier = GaussianNB()\n",
    "classifier.fit(x_train, y_train)"
   ]
  },
  {
   "cell_type": "code",
   "execution_count": 24,
   "id": "316f1ed0",
   "metadata": {},
   "outputs": [],
   "source": [
    "y_pred = classifier.predict(x_test)"
   ]
  },
  {
   "cell_type": "code",
   "execution_count": 25,
   "id": "96c64f45",
   "metadata": {},
   "outputs": [
    {
     "name": "stdout",
     "output_type": "stream",
     "text": [
      "[[ 9  5  2  3  6]\n",
      " [ 0  5  0  0  0]\n",
      " [ 0  0  1  0  0]\n",
      " [ 0  0  0  3  0]\n",
      " [ 0  0  0  0 16]]\n"
     ]
    }
   ],
   "source": [
    "from sklearn.metrics import confusion_matrix\n",
    "cm = confusion_matrix(y_test, y_pred)\n",
    "print(cm)"
   ]
  },
  {
   "cell_type": "code",
   "execution_count": 45,
   "id": "db72cb00",
   "metadata": {},
   "outputs": [
    {
     "name": "stdout",
     "output_type": "stream",
     "text": [
      "Accuracy:  0.68\n"
     ]
    }
   ],
   "source": [
    "from sklearn.metrics import accuracy_score\n",
    "print(\"Accuracy: \", accuracy_score(y_test, y_pred))"
   ]
  },
  {
   "cell_type": "code",
   "execution_count": 26,
   "id": "2f2d0d7d",
   "metadata": {},
   "outputs": [
    {
     "data": {
      "text/html": [
       "<style>#sk-container-id-2 {color: black;background-color: white;}#sk-container-id-2 pre{padding: 0;}#sk-container-id-2 div.sk-toggleable {background-color: white;}#sk-container-id-2 label.sk-toggleable__label {cursor: pointer;display: block;width: 100%;margin-bottom: 0;padding: 0.3em;box-sizing: border-box;text-align: center;}#sk-container-id-2 label.sk-toggleable__label-arrow:before {content: \"▸\";float: left;margin-right: 0.25em;color: #696969;}#sk-container-id-2 label.sk-toggleable__label-arrow:hover:before {color: black;}#sk-container-id-2 div.sk-estimator:hover label.sk-toggleable__label-arrow:before {color: black;}#sk-container-id-2 div.sk-toggleable__content {max-height: 0;max-width: 0;overflow: hidden;text-align: left;background-color: #f0f8ff;}#sk-container-id-2 div.sk-toggleable__content pre {margin: 0.2em;color: black;border-radius: 0.25em;background-color: #f0f8ff;}#sk-container-id-2 input.sk-toggleable__control:checked~div.sk-toggleable__content {max-height: 200px;max-width: 100%;overflow: auto;}#sk-container-id-2 input.sk-toggleable__control:checked~label.sk-toggleable__label-arrow:before {content: \"▾\";}#sk-container-id-2 div.sk-estimator input.sk-toggleable__control:checked~label.sk-toggleable__label {background-color: #d4ebff;}#sk-container-id-2 div.sk-label input.sk-toggleable__control:checked~label.sk-toggleable__label {background-color: #d4ebff;}#sk-container-id-2 input.sk-hidden--visually {border: 0;clip: rect(1px 1px 1px 1px);clip: rect(1px, 1px, 1px, 1px);height: 1px;margin: -1px;overflow: hidden;padding: 0;position: absolute;width: 1px;}#sk-container-id-2 div.sk-estimator {font-family: monospace;background-color: #f0f8ff;border: 1px dotted black;border-radius: 0.25em;box-sizing: border-box;margin-bottom: 0.5em;}#sk-container-id-2 div.sk-estimator:hover {background-color: #d4ebff;}#sk-container-id-2 div.sk-parallel-item::after {content: \"\";width: 100%;border-bottom: 1px solid gray;flex-grow: 1;}#sk-container-id-2 div.sk-label:hover label.sk-toggleable__label {background-color: #d4ebff;}#sk-container-id-2 div.sk-serial::before {content: \"\";position: absolute;border-left: 1px solid gray;box-sizing: border-box;top: 0;bottom: 0;left: 50%;z-index: 0;}#sk-container-id-2 div.sk-serial {display: flex;flex-direction: column;align-items: center;background-color: white;padding-right: 0.2em;padding-left: 0.2em;position: relative;}#sk-container-id-2 div.sk-item {position: relative;z-index: 1;}#sk-container-id-2 div.sk-parallel {display: flex;align-items: stretch;justify-content: center;background-color: white;position: relative;}#sk-container-id-2 div.sk-item::before, #sk-container-id-2 div.sk-parallel-item::before {content: \"\";position: absolute;border-left: 1px solid gray;box-sizing: border-box;top: 0;bottom: 0;left: 50%;z-index: -1;}#sk-container-id-2 div.sk-parallel-item {display: flex;flex-direction: column;z-index: 1;position: relative;background-color: white;}#sk-container-id-2 div.sk-parallel-item:first-child::after {align-self: flex-end;width: 50%;}#sk-container-id-2 div.sk-parallel-item:last-child::after {align-self: flex-start;width: 50%;}#sk-container-id-2 div.sk-parallel-item:only-child::after {width: 0;}#sk-container-id-2 div.sk-dashed-wrapped {border: 1px dashed gray;margin: 0 0.4em 0.5em 0.4em;box-sizing: border-box;padding-bottom: 0.4em;background-color: white;}#sk-container-id-2 div.sk-label label {font-family: monospace;font-weight: bold;display: inline-block;line-height: 1.2em;}#sk-container-id-2 div.sk-label-container {text-align: center;}#sk-container-id-2 div.sk-container {/* jupyter's `normalize.less` sets `[hidden] { display: none; }` but bootstrap.min.css set `[hidden] { display: none !important; }` so we also need the `!important` here to be able to override the default hidden behavior on the sphinx rendered scikit-learn.org. See: https://github.com/scikit-learn/scikit-learn/issues/21755 */display: inline-block !important;position: relative;}#sk-container-id-2 div.sk-text-repr-fallback {display: none;}</style><div id=\"sk-container-id-2\" class=\"sk-top-container\"><div class=\"sk-text-repr-fallback\"><pre>LogisticRegression()</pre><b>In a Jupyter environment, please rerun this cell to show the HTML representation or trust the notebook. <br />On GitHub, the HTML representation is unable to render, please try loading this page with nbviewer.org.</b></div><div class=\"sk-container\" hidden><div class=\"sk-item\"><div class=\"sk-estimator sk-toggleable\"><input class=\"sk-toggleable__control sk-hidden--visually\" id=\"sk-estimator-id-2\" type=\"checkbox\" checked><label for=\"sk-estimator-id-2\" class=\"sk-toggleable__label sk-toggleable__label-arrow\">LogisticRegression</label><div class=\"sk-toggleable__content\"><pre>LogisticRegression()</pre></div></div></div></div></div>"
      ],
      "text/plain": [
       "LogisticRegression()"
      ]
     },
     "execution_count": 26,
     "metadata": {},
     "output_type": "execute_result"
    }
   ],
   "source": [
    "from sklearn.linear_model import LogisticRegression\n",
    "\n",
    "classifierr = LogisticRegression()\n",
    "classifierr.fit(x_train, y_train)"
   ]
  },
  {
   "cell_type": "code",
   "execution_count": 27,
   "id": "b1e0fa44",
   "metadata": {},
   "outputs": [],
   "source": [
    "y_predd = classifier.predict(x_test)"
   ]
  },
  {
   "cell_type": "code",
   "execution_count": 28,
   "id": "1b0dff7e",
   "metadata": {},
   "outputs": [
    {
     "name": "stdout",
     "output_type": "stream",
     "text": [
      "[[ 9  5  2  3  6]\n",
      " [ 0  5  0  0  0]\n",
      " [ 0  0  1  0  0]\n",
      " [ 0  0  0  3  0]\n",
      " [ 0  0  0  0 16]]\n"
     ]
    }
   ],
   "source": [
    "from sklearn.metrics import confusion_matrix\n",
    "cm = confusion_matrix(y_test, y_predd)\n",
    "print(cm)"
   ]
  },
  {
   "cell_type": "code",
   "execution_count": 44,
   "id": "f4c4a042",
   "metadata": {},
   "outputs": [
    {
     "name": "stdout",
     "output_type": "stream",
     "text": [
      "Accuracy:  0.68\n"
     ]
    }
   ],
   "source": [
    "from sklearn.metrics import accuracy_score\n",
    "print(\"Accuracy: \", accuracy_score(y_test, y_predd))"
   ]
  },
  {
   "cell_type": "code",
   "execution_count": 29,
   "id": "0b62f4e9",
   "metadata": {},
   "outputs": [],
   "source": [
    "y_pred_xtrain = classifierr.predict(x_train)"
   ]
  },
  {
   "cell_type": "code",
   "execution_count": 30,
   "id": "5ca7e547",
   "metadata": {},
   "outputs": [
    {
     "name": "stdout",
     "output_type": "stream",
     "text": [
      "[[65  0  0  0  1]\n",
      " [ 0 18  0  0  0]\n",
      " [ 0  1 14  0  0]\n",
      " [ 0  0  0 13  0]\n",
      " [ 1  0  0  0 37]]\n"
     ]
    }
   ],
   "source": [
    "from sklearn.metrics import confusion_matrix\n",
    "cm = confusion_matrix(y_train, y_pred_xtrain)\n",
    "print(cm)"
   ]
  },
  {
   "cell_type": "code",
   "execution_count": 31,
   "id": "3d40bb68",
   "metadata": {},
   "outputs": [],
   "source": [
    "# 0 = drugY\n",
    "# 1 = drugA\n",
    "# 2 = drugB\n",
    "# 3 = drugC\n",
    "# 4 = drugX"
   ]
  },
  {
   "cell_type": "code",
   "execution_count": 35,
   "id": "1dec267d",
   "metadata": {},
   "outputs": [],
   "source": [
    "from sklearn.neighbors import KNeighborsClassifier\n",
    "from sklearn.tree import DecisionTreeClassifier\n",
    "from sklearn.ensemble import RandomForestClassifier\n",
    "from sklearn.naive_bayes import GaussianNB\n",
    "from sklearn.svm import SVC\n",
    "\n",
    "from sklearn.model_selection import KFold\n",
    "from sklearn.model_selection import cross_val_score"
   ]
  },
  {
   "cell_type": "code",
   "execution_count": 39,
   "id": "504a9d50",
   "metadata": {},
   "outputs": [],
   "source": [
    "dtc = DecisionTreeClassifier()\n",
    "dtc.fit(x_train, y_train)\n",
    "\n",
    "dtc_test = dtc.predict(x_test)"
   ]
  },
  {
   "cell_type": "code",
   "execution_count": 40,
   "id": "4c61124a",
   "metadata": {},
   "outputs": [
    {
     "name": "stdout",
     "output_type": "stream",
     "text": [
      "[[25  0  0  0  0]\n",
      " [ 0  5  0  0  0]\n",
      " [ 0  0  1  0  0]\n",
      " [ 0  0  0  3  0]\n",
      " [ 0  0  0  0 16]]\n"
     ]
    }
   ],
   "source": [
    "from sklearn.metrics import confusion_matrix\n",
    "cm = confusion_matrix(y_test, dtc_test)\n",
    "print(cm)"
   ]
  },
  {
   "cell_type": "code",
   "execution_count": 41,
   "id": "08dca682",
   "metadata": {},
   "outputs": [
    {
     "name": "stdout",
     "output_type": "stream",
     "text": [
      "Accuracy:  1.0\n"
     ]
    }
   ],
   "source": [
    "from sklearn.metrics import accuracy_score\n",
    "print(\"Accuracy: \", accuracy_score(y_test, dtc_test))"
   ]
  }
 ],
 "metadata": {
  "kernelspec": {
   "display_name": "Python 3 (ipykernel)",
   "language": "python",
   "name": "python3"
  },
  "language_info": {
   "codemirror_mode": {
    "name": "ipython",
    "version": 3
   },
   "file_extension": ".py",
   "mimetype": "text/x-python",
   "name": "python",
   "nbconvert_exporter": "python",
   "pygments_lexer": "ipython3",
   "version": "3.10.9"
  }
 },
 "nbformat": 4,
 "nbformat_minor": 5
}
